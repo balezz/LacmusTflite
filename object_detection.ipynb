{
 "cells": [
  {
   "cell_type": "markdown",
   "metadata": {
    "id": "h2q27gKz1H20"
   },
   "source": [
    "##### Copyright 2021 The TensorFlow Authors."
   ]
  },
  {
   "cell_type": "code",
   "execution_count": 1,
   "metadata": {
    "cellView": "form",
    "execution": {
     "iopub.execute_input": "2022-05-26T11:25:36.892727Z",
     "iopub.status.busy": "2022-05-26T11:25:36.892283Z",
     "iopub.status.idle": "2022-05-26T11:25:36.896696Z",
     "shell.execute_reply": "2022-05-26T11:25:36.895870Z"
    },
    "id": "TUfAcER1oUS6"
   },
   "outputs": [],
   "source": [
    "#@title Licensed under the Apache License, Version 2.0 (the \"License\");\n",
    "# you may not use this file except in compliance with the License.\n",
    "# You may obtain a copy of the License at\n",
    "#\n",
    "# https://www.apache.org/licenses/LICENSE-2.0\n",
    "#\n",
    "# Unless required by applicable law or agreed to in writing, software\n",
    "# distributed under the License is distributed on an \"AS IS\" BASIS,\n",
    "# WITHOUT WARRANTIES OR CONDITIONS OF ANY KIND, either express or implied.\n",
    "# See the License for the specific language governing permissions and\n",
    "# limitations under the License."
   ]
  },
  {
   "cell_type": "markdown",
   "metadata": {
    "id": "Gb7qyhNL1yWt"
   },
   "source": [
    "# Object Detection with TensorFlow Lite Model Maker"
   ]
  },
  {
   "cell_type": "markdown",
   "metadata": {
    "id": "l6lRhVK9Q_0U"
   },
   "source": [
    "Import the required packages."
   ]
  },
  {
   "cell_type": "code",
   "execution_count": 1,
   "metadata": {
    "execution": {
     "iopub.execute_input": "2022-05-26T11:26:41.436952Z",
     "iopub.status.busy": "2022-05-26T11:26:41.436448Z",
     "iopub.status.idle": "2022-05-26T11:26:44.945021Z",
     "shell.execute_reply": "2022-05-26T11:26:44.943924Z"
    },
    "id": "XtxiUeZEiXpt"
   },
   "outputs": [],
   "source": [
    "import numpy as np\n",
    "import os\n",
    "\n",
    "from tflite_model_maker.config import QuantizationConfig\n",
    "from tflite_model_maker.config import ExportFormat\n",
    "from tflite_model_maker import model_spec\n",
    "from tflite_model_maker import object_detector\n",
    "\n",
    "import tensorflow as tf\n",
    "assert tf.__version__.startswith('2')\n",
    "\n",
    "tf.get_logger().setLevel('ERROR')\n",
    "from absl import logging\n",
    "logging.set_verbosity(logging.ERROR)"
   ]
  },
  {
   "cell_type": "markdown",
   "metadata": {
    "id": "xushUyZXqP59"
   },
   "source": [
    "## Quickstart"
   ]
  },
  {
   "cell_type": "markdown",
   "metadata": {
    "id": "vn61LJ9QbOPi"
   },
   "source": [
    "There are six steps to training an object detection model:\n",
    "\n",
    "**Step 1. Choose an object detection model archiecture.**\n",
    "\n",
    "This tutorial uses the EfficientDet-Lite0 model. EfficientDet-Lite[0-4] are a family of mobile/IoT-friendly object detection models derived from the [EfficientDet](https://arxiv.org/abs/1911.09070) architecture.\n",
    "\n",
    "Here is the performance of each EfficientDet-Lite models compared to each others.\n",
    "\n",
    "| Model architecture | Size(MB)* | Latency(ms)** | Average Precision*** |\n",
    "|--------------------|-----------|---------------|----------------------|\n",
    "| EfficientDet-Lite0 | 4.4       | 37            | 25.69%               |\n",
    "| EfficientDet-Lite1 | 5.8       | 49            | 30.55%               |\n",
    "| EfficientDet-Lite2 | 7.2       | 69            | 33.97%               |\n",
    "| EfficientDet-Lite3 | 11.4      | 116           | 37.70%               |\n",
    "| EfficientDet-Lite4 | 19.9      | 260           | 41.96%               |\n",
    "\n",
    "<i> * Size of the integer quantized models. <br/>\n",
    "** Latency measured on Pixel 4 using 4 threads on CPU. <br/>\n",
    "*** Average Precision is the mAP (mean Average Precision) on the COCO 2017 validation dataset.\n",
    "</i>\n"
   ]
  },
  {
   "cell_type": "code",
   "execution_count": 2,
   "metadata": {
    "execution": {
     "iopub.execute_input": "2022-05-26T11:26:44.949982Z",
     "iopub.status.busy": "2022-05-26T11:26:44.949248Z",
     "iopub.status.idle": "2022-05-26T11:26:47.587901Z",
     "shell.execute_reply": "2022-05-26T11:26:47.587109Z"
    },
    "id": "CtdZ-JDwMimd"
   },
   "outputs": [],
   "source": [
    "spec = model_spec.get('efficientdet_lite0')"
   ]
  },
  {
   "cell_type": "markdown",
   "metadata": {
    "id": "s5U-A3tw6Y27"
   },
   "source": [
    "**Step 2. Load the dataset.**\n",
    "\n",
    "Model Maker will take input data in the CSV format. Use the `object_detector.DataLoader.from_csv` method to load the dataset and split them into the training, validation and test images.\n",
    "\n",
    "* Training images: These images are used to train the object detection model to recognize salad ingredients.\n",
    "* Validation images: These are images that the model didn't see during the training process. You'll use them to decide when you should stop the training, to avoid [overfitting](https://en.wikipedia.org/wiki/Overfitting).\n",
    "* Test images: These images are used to evaluate the final model performance.\n",
    "\n",
    "You can load the CSV file directly from Google Cloud Storage, but you don't need to keep your images on Google Cloud to use Model Maker. You can specify a local CSV file on your computer, and Model Maker will work just fine."
   ]
  },
  {
   "cell_type": "code",
   "execution_count": 3,
   "metadata": {
    "execution": {
     "iopub.execute_input": "2022-05-26T11:26:47.591650Z",
     "iopub.status.busy": "2022-05-26T11:26:47.591182Z",
     "iopub.status.idle": "2022-05-26T11:27:40.826688Z",
     "shell.execute_reply": "2022-05-26T11:27:40.825755Z"
    },
    "id": "HD5BvzWe6YKa"
   },
   "outputs": [],
   "source": [
    "train_data, validation_data, test_data = object_detector.DataLoader.from_csv('LizaAlertDroneDatasetV4_Winter/vision.csv')"
   ]
  },
  {
   "cell_type": "markdown",
   "metadata": {
    "id": "2uZkLR6N6gDR"
   },
   "source": [
    "**Step 3. Train the TensorFlow model with the training data.**\n",
    "\n",
    "* The EfficientDet-Lite0 model uses `epochs = 50` by default, which means it will go through the training dataset 50 times. You can look at the validation accuracy during training and stop early to avoid overfitting.\n",
    "* Set `batch_size = 8` here so you will see that it takes 21 steps to go through the 175 images in the training dataset.\n",
    "* Set `train_whole_model=True` to fine-tune the whole model instead of just training the head layer to improve accuracy. The trade-off is that it may take longer to train the model."
   ]
  },
  {
   "cell_type": "code",
   "execution_count": 4,
   "metadata": {
    "execution": {
     "iopub.execute_input": "2022-05-26T11:27:40.831473Z",
     "iopub.status.busy": "2022-05-26T11:27:40.830887Z",
     "iopub.status.idle": "2022-05-26T11:33:38.722703Z",
     "shell.execute_reply": "2022-05-26T11:33:38.721920Z"
    },
    "id": "kwlYdTcg63xy",
    "scrolled": true
   },
   "outputs": [
    {
     "name": "stdout",
     "output_type": "stream",
     "text": [
      "Epoch 1/50\n",
      "98/98 [==============================] - 45s 173ms/step - det_loss: 1.3586 - cls_loss: 0.7006 - box_loss: 0.0132 - reg_l2_loss: 0.0630 - loss: 1.4217 - learning_rate: 0.0090 - gradient_norm: 4.7828\n",
      "Epoch 2/50\n",
      "98/98 [==============================] - 17s 176ms/step - det_loss: 0.8763 - cls_loss: 0.4493 - box_loss: 0.0085 - reg_l2_loss: 0.0635 - loss: 0.9398 - learning_rate: 0.0100 - gradient_norm: 5.2485\n",
      "Epoch 3/50\n",
      "98/98 [==============================] - 17s 177ms/step - det_loss: 0.7675 - cls_loss: 0.3997 - box_loss: 0.0074 - reg_l2_loss: 0.0640 - loss: 0.8315 - learning_rate: 0.0099 - gradient_norm: 4.5724\n",
      "Epoch 4/50\n",
      "98/98 [==============================] - 18s 180ms/step - det_loss: 0.7390 - cls_loss: 0.3921 - box_loss: 0.0069 - reg_l2_loss: 0.0643 - loss: 0.8032 - learning_rate: 0.0099 - gradient_norm: 4.1205\n",
      "Epoch 5/50\n",
      "98/98 [==============================] - 17s 177ms/step - det_loss: 0.6909 - cls_loss: 0.3781 - box_loss: 0.0063 - reg_l2_loss: 0.0645 - loss: 0.7555 - learning_rate: 0.0098 - gradient_norm: 4.2307\n",
      "Epoch 6/50\n",
      "98/98 [==============================] - 17s 177ms/step - det_loss: 0.6246 - cls_loss: 0.3354 - box_loss: 0.0058 - reg_l2_loss: 0.0648 - loss: 0.6894 - learning_rate: 0.0097 - gradient_norm: 3.6205\n",
      "Epoch 7/50\n",
      "98/98 [==============================] - 17s 177ms/step - det_loss: 0.6697 - cls_loss: 0.3699 - box_loss: 0.0060 - reg_l2_loss: 0.0650 - loss: 0.7347 - learning_rate: 0.0096 - gradient_norm: 4.0024\n",
      "Epoch 8/50\n",
      "98/98 [==============================] - 18s 182ms/step - det_loss: 0.6443 - cls_loss: 0.3490 - box_loss: 0.0059 - reg_l2_loss: 0.0652 - loss: 0.7095 - learning_rate: 0.0094 - gradient_norm: 3.8957\n",
      "Epoch 9/50\n",
      "98/98 [==============================] - 17s 178ms/step - det_loss: 0.6012 - cls_loss: 0.3369 - box_loss: 0.0053 - reg_l2_loss: 0.0654 - loss: 0.6666 - learning_rate: 0.0093 - gradient_norm: 3.7360\n",
      "Epoch 10/50\n",
      "98/98 [==============================] - 17s 179ms/step - det_loss: 0.6364 - cls_loss: 0.3519 - box_loss: 0.0057 - reg_l2_loss: 0.0656 - loss: 0.7020 - learning_rate: 0.0091 - gradient_norm: 3.7982\n",
      "Epoch 11/50\n",
      "98/98 [==============================] - 17s 178ms/step - det_loss: 0.5919 - cls_loss: 0.3130 - box_loss: 0.0056 - reg_l2_loss: 0.0658 - loss: 0.6576 - learning_rate: 0.0089 - gradient_norm: 3.6514\n",
      "Epoch 12/50\n",
      "98/98 [==============================] - 18s 182ms/step - det_loss: 0.5415 - cls_loss: 0.2986 - box_loss: 0.0049 - reg_l2_loss: 0.0659 - loss: 0.6074 - learning_rate: 0.0087 - gradient_norm: 3.3085\n",
      "Epoch 13/50\n",
      "98/98 [==============================] - 18s 180ms/step - det_loss: 0.6103 - cls_loss: 0.3588 - box_loss: 0.0050 - reg_l2_loss: 0.0660 - loss: 0.6763 - learning_rate: 0.0085 - gradient_norm: 3.3843\n",
      "Epoch 14/50\n",
      "98/98 [==============================] - 17s 179ms/step - det_loss: 0.5505 - cls_loss: 0.3008 - box_loss: 0.0050 - reg_l2_loss: 0.0661 - loss: 0.6166 - learning_rate: 0.0082 - gradient_norm: 3.1625\n",
      "Epoch 15/50\n",
      "98/98 [==============================] - 17s 178ms/step - det_loss: 0.5509 - cls_loss: 0.3091 - box_loss: 0.0048 - reg_l2_loss: 0.0662 - loss: 0.6171 - learning_rate: 0.0080 - gradient_norm: 3.4298\n",
      "Epoch 16/50\n",
      "98/98 [==============================] - 18s 183ms/step - det_loss: 0.5376 - cls_loss: 0.2974 - box_loss: 0.0048 - reg_l2_loss: 0.0663 - loss: 0.6039 - learning_rate: 0.0077 - gradient_norm: 3.3281\n",
      "Epoch 17/50\n",
      "98/98 [==============================] - 17s 178ms/step - det_loss: 0.5451 - cls_loss: 0.3051 - box_loss: 0.0048 - reg_l2_loss: 0.0664 - loss: 0.6115 - learning_rate: 0.0075 - gradient_norm: 3.1586\n",
      "Epoch 18/50\n",
      "98/98 [==============================] - 18s 179ms/step - det_loss: 0.5167 - cls_loss: 0.2768 - box_loss: 0.0048 - reg_l2_loss: 0.0665 - loss: 0.5832 - learning_rate: 0.0072 - gradient_norm: 2.9402\n",
      "Epoch 19/50\n",
      "98/98 [==============================] - 17s 178ms/step - det_loss: 0.5016 - cls_loss: 0.2775 - box_loss: 0.0045 - reg_l2_loss: 0.0665 - loss: 0.5681 - learning_rate: 0.0069 - gradient_norm: 3.1763\n",
      "Epoch 20/50\n",
      "98/98 [==============================] - 18s 183ms/step - det_loss: 0.4951 - cls_loss: 0.2746 - box_loss: 0.0044 - reg_l2_loss: 0.0666 - loss: 0.5617 - learning_rate: 0.0066 - gradient_norm: 2.8992\n",
      "Epoch 21/50\n",
      "98/98 [==============================] - 17s 178ms/step - det_loss: 0.4606 - cls_loss: 0.2495 - box_loss: 0.0042 - reg_l2_loss: 0.0666 - loss: 0.5273 - learning_rate: 0.0063 - gradient_norm: 2.9807\n",
      "Epoch 22/50\n",
      "98/98 [==============================] - 17s 178ms/step - det_loss: 0.4518 - cls_loss: 0.2539 - box_loss: 0.0040 - reg_l2_loss: 0.0667 - loss: 0.5185 - learning_rate: 0.0060 - gradient_norm: 3.0112\n",
      "Epoch 23/50\n",
      "98/98 [==============================] - 17s 177ms/step - det_loss: 0.4423 - cls_loss: 0.2423 - box_loss: 0.0040 - reg_l2_loss: 0.0667 - loss: 0.5090 - learning_rate: 0.0056 - gradient_norm: 2.9175\n",
      "Epoch 24/50\n",
      "98/98 [==============================] - 18s 183ms/step - det_loss: 0.4284 - cls_loss: 0.2414 - box_loss: 0.0037 - reg_l2_loss: 0.0667 - loss: 0.4952 - learning_rate: 0.0053 - gradient_norm: 2.7964\n",
      "Epoch 25/50\n",
      "98/98 [==============================] - 18s 179ms/step - det_loss: 0.4161 - cls_loss: 0.2394 - box_loss: 0.0035 - reg_l2_loss: 0.0667 - loss: 0.4828 - learning_rate: 0.0050 - gradient_norm: 2.7646\n",
      "Epoch 26/50\n",
      "98/98 [==============================] - 17s 178ms/step - det_loss: 0.4436 - cls_loss: 0.2542 - box_loss: 0.0038 - reg_l2_loss: 0.0668 - loss: 0.5104 - learning_rate: 0.0047 - gradient_norm: 2.8619\n",
      "Epoch 27/50\n",
      "98/98 [==============================] - 17s 178ms/step - det_loss: 0.3805 - cls_loss: 0.2181 - box_loss: 0.0032 - reg_l2_loss: 0.0668 - loss: 0.4473 - learning_rate: 0.0044 - gradient_norm: 2.5304\n",
      "Epoch 28/50\n",
      "98/98 [==============================] - 18s 182ms/step - det_loss: 0.4006 - cls_loss: 0.2294 - box_loss: 0.0034 - reg_l2_loss: 0.0668 - loss: 0.4674 - learning_rate: 0.0040 - gradient_norm: 2.9205\n",
      "Epoch 29/50\n",
      "98/98 [==============================] - 17s 178ms/step - det_loss: 0.3984 - cls_loss: 0.2326 - box_loss: 0.0033 - reg_l2_loss: 0.0668 - loss: 0.4652 - learning_rate: 0.0037 - gradient_norm: 2.8766\n",
      "Epoch 30/50\n",
      "98/98 [==============================] - 17s 179ms/step - det_loss: 0.3934 - cls_loss: 0.2249 - box_loss: 0.0034 - reg_l2_loss: 0.0668 - loss: 0.4602 - learning_rate: 0.0034 - gradient_norm: 2.8921\n",
      "Epoch 31/50\n",
      "98/98 [==============================] - 17s 178ms/step - det_loss: 0.3861 - cls_loss: 0.2160 - box_loss: 0.0034 - reg_l2_loss: 0.0668 - loss: 0.4529 - learning_rate: 0.0031 - gradient_norm: 2.8998\n",
      "Epoch 32/50\n",
      "98/98 [==============================] - 18s 183ms/step - det_loss: 0.3737 - cls_loss: 0.2212 - box_loss: 0.0031 - reg_l2_loss: 0.0668 - loss: 0.4405 - learning_rate: 0.0028 - gradient_norm: 2.7981\n",
      "Epoch 33/50\n",
      "98/98 [==============================] - 17s 178ms/step - det_loss: 0.3721 - cls_loss: 0.2211 - box_loss: 0.0030 - reg_l2_loss: 0.0668 - loss: 0.4389 - learning_rate: 0.0025 - gradient_norm: 2.8846\n",
      "Epoch 34/50\n",
      "98/98 [==============================] - 17s 179ms/step - det_loss: 0.3508 - cls_loss: 0.2083 - box_loss: 0.0028 - reg_l2_loss: 0.0668 - loss: 0.4176 - learning_rate: 0.0023 - gradient_norm: 2.6582\n",
      "Epoch 35/50\n",
      "98/98 [==============================] - 18s 179ms/step - det_loss: 0.3713 - cls_loss: 0.2132 - box_loss: 0.0032 - reg_l2_loss: 0.0668 - loss: 0.4381 - learning_rate: 0.0020 - gradient_norm: 2.8633\n",
      "Epoch 36/50\n",
      "98/98 [==============================] - 17s 178ms/step - det_loss: 0.3469 - cls_loss: 0.2048 - box_loss: 0.0028 - reg_l2_loss: 0.0668 - loss: 0.4137 - learning_rate: 0.0018 - gradient_norm: 2.8663\n",
      "Epoch 37/50\n",
      "98/98 [==============================] - 18s 184ms/step - det_loss: 0.3710 - cls_loss: 0.2171 - box_loss: 0.0031 - reg_l2_loss: 0.0668 - loss: 0.4378 - learning_rate: 0.0015 - gradient_norm: 2.8858\n",
      "Epoch 38/50\n",
      "98/98 [==============================] - 17s 179ms/step - det_loss: 0.3718 - cls_loss: 0.2160 - box_loss: 0.0031 - reg_l2_loss: 0.0668 - loss: 0.4386 - learning_rate: 0.0013 - gradient_norm: 3.0029\n",
      "Epoch 39/50\n",
      "98/98 [==============================] - 17s 178ms/step - det_loss: 0.3329 - cls_loss: 0.1970 - box_loss: 0.0027 - reg_l2_loss: 0.0668 - loss: 0.3997 - learning_rate: 0.0011 - gradient_norm: 2.6399\n",
      "Epoch 40/50\n"
     ]
    },
    {
     "name": "stdout",
     "output_type": "stream",
     "text": [
      "98/98 [==============================] - 18s 179ms/step - det_loss: 0.3472 - cls_loss: 0.2082 - box_loss: 0.0028 - reg_l2_loss: 0.0668 - loss: 0.4140 - learning_rate: 8.9987e-04 - gradient_norm: 2.8260\n",
      "Epoch 41/50\n",
      "98/98 [==============================] - 18s 182ms/step - det_loss: 0.3592 - cls_loss: 0.2139 - box_loss: 0.0029 - reg_l2_loss: 0.0668 - loss: 0.4260 - learning_rate: 7.2505e-04 - gradient_norm: 2.9607\n",
      "Epoch 42/50\n",
      "98/98 [==============================] - 18s 179ms/step - det_loss: 0.3154 - cls_loss: 0.1909 - box_loss: 0.0025 - reg_l2_loss: 0.0668 - loss: 0.3822 - learning_rate: 5.6779e-04 - gradient_norm: 2.7265\n",
      "Epoch 43/50\n",
      "98/98 [==============================] - 17s 178ms/step - det_loss: 0.3574 - cls_loss: 0.2105 - box_loss: 0.0029 - reg_l2_loss: 0.0668 - loss: 0.4242 - learning_rate: 4.2875e-04 - gradient_norm: 2.8289\n",
      "Epoch 44/50\n",
      "98/98 [==============================] - 18s 181ms/step - det_loss: 0.3251 - cls_loss: 0.1909 - box_loss: 0.0027 - reg_l2_loss: 0.0668 - loss: 0.3919 - learning_rate: 3.0849e-04 - gradient_norm: 2.7546\n",
      "Epoch 45/50\n",
      "98/98 [==============================] - 18s 182ms/step - det_loss: 0.3422 - cls_loss: 0.2064 - box_loss: 0.0027 - reg_l2_loss: 0.0668 - loss: 0.4090 - learning_rate: 2.0751e-04 - gradient_norm: 2.7976\n",
      "Epoch 46/50\n",
      "98/98 [==============================] - 18s 179ms/step - det_loss: 0.3251 - cls_loss: 0.1886 - box_loss: 0.0027 - reg_l2_loss: 0.0668 - loss: 0.3919 - learning_rate: 1.2622e-04 - gradient_norm: 2.6320\n",
      "Epoch 47/50\n",
      "98/98 [==============================] - 18s 179ms/step - det_loss: 0.3263 - cls_loss: 0.1925 - box_loss: 0.0027 - reg_l2_loss: 0.0668 - loss: 0.3931 - learning_rate: 6.4958e-05 - gradient_norm: 2.7352\n",
      "Epoch 48/50\n",
      "98/98 [==============================] - 18s 179ms/step - det_loss: 0.3386 - cls_loss: 0.2036 - box_loss: 0.0027 - reg_l2_loss: 0.0668 - loss: 0.4054 - learning_rate: 2.3976e-05 - gradient_norm: 2.7778\n",
      "Epoch 49/50\n",
      "98/98 [==============================] - 18s 183ms/step - det_loss: 0.3278 - cls_loss: 0.1930 - box_loss: 0.0027 - reg_l2_loss: 0.0668 - loss: 0.3946 - learning_rate: 3.4423e-06 - gradient_norm: 2.8872\n",
      "Epoch 50/50\n",
      "98/98 [==============================] - 18s 180ms/step - det_loss: 0.3270 - cls_loss: 0.1973 - box_loss: 0.0026 - reg_l2_loss: 0.0668 - loss: 0.3938 - learning_rate: 3.4402e-06 - gradient_norm: 2.7028\n"
     ]
    }
   ],
   "source": [
    "model = object_detector.create(train_data, \n",
    "                               model_spec=spec, \n",
    "                               batch_size=8, \n",
    "                               train_whole_model=True, \n",
    "                               validation_data=validation_data)"
   ]
  },
  {
   "cell_type": "markdown",
   "metadata": {
    "id": "-BzCHLWJ6h7q"
   },
   "source": [
    "**Step 4. Evaluate the model with the test data.**\n",
    "\n",
    "After training the object detection model using the images in the training dataset, use the remaining 25 images in the test dataset to evaluate how the model performs against new data it has never seen before.\n",
    "\n",
    "As the default batch size is 64, it will take 1 step to go through the 25 images in the test dataset.\n",
    "\n",
    "The evaluation metrics are same as [COCO](https://cocodataset.org/#detection-eval)."
   ]
  },
  {
   "cell_type": "code",
   "execution_count": 5,
   "metadata": {
    "execution": {
     "iopub.execute_input": "2022-05-26T11:33:38.728247Z",
     "iopub.status.busy": "2022-05-26T11:33:38.727660Z",
     "iopub.status.idle": "2022-05-26T11:33:45.580646Z",
     "shell.execute_reply": "2022-05-26T11:33:45.579902Z"
    },
    "id": "8xmnl6Yy7ARn"
   },
   "outputs": [
    {
     "name": "stdout",
     "output_type": "stream",
     "text": [
      "2/2 [==============================] - 13s 4s/step\n",
      "\n"
     ]
    },
    {
     "data": {
      "text/plain": [
       "{'AP': 0.5289655,\n",
       " 'AP50': 0.9363719,\n",
       " 'AP75': 0.533727,\n",
       " 'APs': 0.52907455,\n",
       " 'APm': -1.0,\n",
       " 'APl': -1.0,\n",
       " 'ARmax1': 0.36899224,\n",
       " 'ARmax10': 0.63100773,\n",
       " 'ARmax100': 0.6488372,\n",
       " 'ARs': 0.6488372,\n",
       " 'ARm': -1.0,\n",
       " 'ARl': -1.0,\n",
       " 'AP_/Pedestrian': 0.5289655}"
      ]
     },
     "execution_count": 5,
     "metadata": {},
     "output_type": "execute_result"
    }
   ],
   "source": [
    "model.evaluate(test_data)"
   ]
  },
  {
   "cell_type": "markdown",
   "metadata": {
    "id": "CgCDMe0e6jlT"
   },
   "source": [
    "**Step 5.  Export as a TensorFlow Lite model.**\n",
    "\n",
    "Export the trained object detection model to the TensorFlow Lite format by specifying which folder you want to export the quantized model to. The default post-training quantization technique is full integer quantization."
   ]
  },
  {
   "cell_type": "code",
   "execution_count": 7,
   "metadata": {
    "execution": {
     "iopub.execute_input": "2022-05-26T11:33:45.584118Z",
     "iopub.status.busy": "2022-05-26T11:33:45.583857Z",
     "iopub.status.idle": "2022-05-26T11:35:06.037870Z",
     "shell.execute_reply": "2022-05-26T11:35:06.036963Z"
    },
    "id": "Hm_UULdW7A9T"
   },
   "outputs": [],
   "source": [
    "model.export(export_dir='.')"
   ]
  },
  {
   "cell_type": "markdown",
   "metadata": {
    "id": "ZQpahAIBqBPp"
   },
   "source": [
    "**Step 6.  Evaluate the TensorFlow Lite model.**\n",
    "\n",
    "Several factors can affect the model accuracy when exporting to TFLite:\n",
    "* [Quantization](https://www.tensorflow.org/lite/performance/model_optimization) helps shrinking the model size by 4 times at the expense of some accuracy drop.\n",
    "* The original TensorFlow model uses per-class [non-max supression (NMS)](https://www.coursera.org/lecture/convolutional-neural-networks/non-max-suppression-dvrjH) for post-processing, while the TFLite model uses global NMS that's much faster but less accurate.\n",
    "Keras outputs maximum 100 detections while tflite outputs maximum 25 detections.\n",
    "\n",
    "Therefore you'll have to evaluate the exported TFLite model and compare its accuracy with the original TensorFlow model."
   ]
  },
  {
   "cell_type": "code",
   "execution_count": 8,
   "metadata": {
    "execution": {
     "iopub.execute_input": "2022-05-26T11:35:06.042208Z",
     "iopub.status.busy": "2022-05-26T11:35:06.041665Z",
     "iopub.status.idle": "2022-05-26T11:36:04.546499Z",
     "shell.execute_reply": "2022-05-26T11:36:04.545765Z"
    },
    "id": "RS3Ell_lqH4e"
   },
   "outputs": [
    {
     "name": "stdout",
     "output_type": "stream",
     "text": [
      "82/82 [==============================] - 146s 2s/step\n",
      "\n"
     ]
    },
    {
     "data": {
      "text/plain": [
       "{'AP': 0.52779233,\n",
       " 'AP50': 0.9402996,\n",
       " 'AP75': 0.5447395,\n",
       " 'APs': 0.52785134,\n",
       " 'APm': -1.0,\n",
       " 'APl': -1.0,\n",
       " 'ARmax1': 0.36976743,\n",
       " 'ARmax10': 0.60465115,\n",
       " 'ARmax100': 0.6124031,\n",
       " 'ARs': 0.6124031,\n",
       " 'ARm': -1.0,\n",
       " 'ARl': -1.0,\n",
       " 'AP_/Pedestrian': 0.52779233}"
      ]
     },
     "execution_count": 8,
     "metadata": {},
     "output_type": "execute_result"
    }
   ],
   "source": [
    "model.evaluate_tflite('model.tflite', test_data)"
   ]
  },
  {
   "cell_type": "markdown",
   "metadata": {
    "id": "rVxaf3x_7OfB"
   },
   "source": [
    "You can download the TensorFlow Lite model file using the left sidebar of Colab. Right-click on the `model.tflite` file and choose `Download` to download it to your local computer.\n",
    "\n",
    "This model can be integrated into an Android or an iOS app using the [ObjectDetector API](https://www.tensorflow.org/lite/inference_with_metadata/task_library/object_detector) of the [TensorFlow Lite Task Library](https://www.tensorflow.org/lite/inference_with_metadata/task_library/overview).\n",
    "\n",
    "See the [TFLite Object Detection sample app](https://github.com/tensorflow/examples/blob/master/lite/examples/object_detection/android/lib_task_api/src/main/java/org/tensorflow/lite/examples/detection/tflite/TFLiteObjectDetectionAPIModel.java#L91) for more details on how the model is used in an working app.\n",
    "\n",
    "*Note: Android Studio Model Binding does not support object detection yet so please use the TensorFlow Lite Task Library.*"
   ]
  },
  {
   "cell_type": "markdown",
   "metadata": {
    "id": "me6_RwPZqNhX"
   },
   "source": [
    "## (Optional) Test the TFLite model on your image\n",
    "\n",
    "You can test the trained TFLite model using images from the internet.\n",
    "* Replace the `INPUT_IMAGE_URL` below with your desired input image.\n",
    "* Adjust the `DETECTION_THRESHOLD` to change the sensitivity of the model. A lower threshold means the model will pickup more objects but there will also be more false detection. Meanwhile, a higher threshold means the model will only pickup objects that it has confidently detected.\n",
    "\n",
    "Although it requires some of boilerplate code to run the model in Python at this moment, integrating the model into a mobile app only requires a few lines of code."
   ]
  },
  {
   "cell_type": "code",
   "execution_count": 9,
   "metadata": {
    "cellView": "form",
    "execution": {
     "iopub.execute_input": "2022-05-26T11:36:04.550368Z",
     "iopub.status.busy": "2022-05-26T11:36:04.549846Z",
     "iopub.status.idle": "2022-05-26T11:36:04.576214Z",
     "shell.execute_reply": "2022-05-26T11:36:04.575542Z"
    },
    "id": "XqS0rFCrqM1o"
   },
   "outputs": [],
   "source": [
    "#@title Load the trained TFLite model and define some visualization functions\n",
    "\n",
    "import cv2\n",
    "\n",
    "from PIL import Image\n",
    "\n",
    "model_path = 'model.tflite'\n",
    "\n",
    "# Load the labels into a list\n",
    "classes = ['???'] * model.model_spec.config.num_classes\n",
    "label_map = model.model_spec.config.label_map\n",
    "for label_id, label_name in label_map.as_dict().items():\n",
    "  classes[label_id-1] = label_name\n",
    "\n",
    "# Define a list of colors for visualization\n",
    "COLORS = np.random.randint(0, 255, size=(len(classes), 3), dtype=np.uint8)\n",
    "\n",
    "def preprocess_image(image_path, input_size):\n",
    "  \"\"\"Preprocess the input image to feed to the TFLite model\"\"\"\n",
    "  img = tf.io.read_file(image_path)\n",
    "  img = tf.io.decode_image(img, channels=3)\n",
    "  img = tf.image.convert_image_dtype(img, tf.uint8)\n",
    "  original_image = img\n",
    "  resized_img = tf.image.resize(img, input_size)\n",
    "  resized_img = resized_img[tf.newaxis, :]\n",
    "  resized_img = tf.cast(resized_img, dtype=tf.uint8)\n",
    "  return resized_img, original_image\n",
    "\n",
    "\n",
    "def detect_objects(interpreter, image, threshold):\n",
    "  \"\"\"Returns a list of detection results, each a dictionary of object info.\"\"\"\n",
    "\n",
    "  signature_fn = interpreter.get_signature_runner()\n",
    "\n",
    "  # Feed the input image to the model\n",
    "  output = signature_fn(images=image)\n",
    "\n",
    "  # Get all outputs from the model\n",
    "  count = int(np.squeeze(output['output_0']))\n",
    "  scores = np.squeeze(output['output_1'])\n",
    "  classes = np.squeeze(output['output_2'])\n",
    "  boxes = np.squeeze(output['output_3'])\n",
    "\n",
    "  results = []\n",
    "  for i in range(count):\n",
    "    if scores[i] >= threshold:\n",
    "      result = {\n",
    "        'bounding_box': boxes[i],\n",
    "        'class_id': classes[i],\n",
    "        'score': scores[i]\n",
    "      }\n",
    "      results.append(result)\n",
    "  return results\n",
    "\n",
    "\n",
    "def run_odt_and_draw_results(image_path, interpreter, threshold=0.5):\n",
    "  \"\"\"Run object detection on the input image and draw the detection results\"\"\"\n",
    "  # Load the input shape required by the model\n",
    "  _, input_height, input_width, _ = interpreter.get_input_details()[0]['shape']\n",
    "\n",
    "  # Load the input image and preprocess it\n",
    "  preprocessed_image, original_image = preprocess_image(\n",
    "      image_path,\n",
    "      (input_height, input_width)\n",
    "    )\n",
    "\n",
    "  # Run object detection on the input image\n",
    "  results = detect_objects(interpreter, preprocessed_image, threshold=threshold)\n",
    "\n",
    "  # Plot the detection results on the input image\n",
    "  original_image_np = original_image.numpy().astype(np.uint8)\n",
    "  for obj in results:\n",
    "    # Convert the object bounding box from relative coordinates to absolute\n",
    "    # coordinates based on the original image resolution\n",
    "    ymin, xmin, ymax, xmax = obj['bounding_box']\n",
    "    xmin = int(xmin * original_image_np.shape[1])\n",
    "    xmax = int(xmax * original_image_np.shape[1])\n",
    "    ymin = int(ymin * original_image_np.shape[0])\n",
    "    ymax = int(ymax * original_image_np.shape[0])\n",
    "\n",
    "    # Find the class index of the current object\n",
    "    class_id = int(obj['class_id'])\n",
    "\n",
    "    # Draw the bounding box and label on the image\n",
    "    color = [int(c) for c in COLORS[class_id]]\n",
    "    cv2.rectangle(original_image_np, (xmin, ymin), (xmax, ymax), color, 2)\n",
    "    # Make adjustments to make the label visible for all objects\n",
    "    y = ymin - 15 if ymin - 15 > 15 else ymin + 15\n",
    "    label = \"{}: {:.0f}%\".format(classes[class_id], obj['score'] * 100)\n",
    "    cv2.putText(original_image_np, label, (xmin, y),\n",
    "        cv2.FONT_HERSHEY_SIMPLEX, 0.5, color, 2)\n",
    "\n",
    "  # Return the final image\n",
    "  original_uint8 = original_image_np.astype(np.uint8)\n",
    "  return original_uint8"
   ]
  },
  {
   "cell_type": "code",
   "execution_count": 10,
   "metadata": {
    "cellView": "form",
    "execution": {
     "iopub.execute_input": "2022-05-26T11:36:04.579569Z",
     "iopub.status.busy": "2022-05-26T11:36:04.579102Z",
     "iopub.status.idle": "2022-05-26T11:36:07.778025Z",
     "shell.execute_reply": "2022-05-26T11:36:07.777198Z"
    },
    "id": "GkXtipXKqXp4"
   },
   "outputs": [
    {
     "data": {
      "image/png": "[encoded data removed]",
      "text/plain": [
       "<PIL.Image.Image image mode=RGB size=224x224 at 0x7FF126336FD0>"
      ]
     },
     "execution_count": 10,
     "metadata": {},
     "output_type": "execute_result"
    }
   ],
   "source": [
    "#@title Run object detection and show the detection results\n",
    "\n",
    "DETECTION_THRESHOLD = 0.3 #@param {type:\"number\"}\n",
    "\n",
    "TEMP_FILE = 'LizaAlertDroneDatasetV4_Winter/TESTcrops/0.jpg'\n",
    "\n",
    "im = Image.open(TEMP_FILE)\n",
    "im.thumbnail((512, 512), Image.ANTIALIAS)\n",
    "im.save(TEMP_FILE, 'PNG')\n",
    "\n",
    "# Load the TFLite model\n",
    "interpreter = tf.lite.Interpreter(model_path=model_path)\n",
    "interpreter.allocate_tensors()\n",
    "\n",
    "# Run inference and draw detection result on the local copy of the original file\n",
    "detection_result_image = run_odt_and_draw_results(\n",
    "    TEMP_FILE,\n",
    "    interpreter,\n",
    "    threshold=DETECTION_THRESHOLD\n",
    ")\n",
    "\n",
    "# Show the detection result\n",
    "Image.fromarray(detection_result_image)"
   ]
  },
  {
   "cell_type": "markdown",
   "metadata": {
    "id": "oxgWQyYOqZha"
   },
   "source": [
    "## (Optional) Compile For the Edge TPU\n",
    "\n",
    "Now that you have a quantized EfficientDet Lite model, it is possible to compile and deploy to a [Coral EdgeTPU](https://coral.ai/).\n",
    "\n",
    "**Step 1. Install the EdgeTPU Compiler**"
   ]
  },
  {
   "cell_type": "code",
   "execution_count": 12,
   "metadata": {
    "execution": {
     "iopub.execute_input": "2022-05-26T11:36:07.786780Z",
     "iopub.status.busy": "2022-05-26T11:36:07.785921Z",
     "iopub.status.idle": "2022-05-26T11:36:20.293459Z",
     "shell.execute_reply": "2022-05-26T11:36:20.292435Z"
    },
    "id": "Oy3QIn_YqaRP"
   },
   "outputs": [
    {
     "name": "stdout",
     "output_type": "stream",
     "text": [
      "  % Total    % Received % Xferd  Average Speed   Time    Time     Time  Current\n",
      "                                 Dload  Upload   Total   Spent    Left  Speed\n",
      "100  2537  100  2537    0     0   137k      0 --:--:-- --:--:-- --:--:--  137k\n",
      "OK\n",
      "deb https://packages.cloud.google.com/apt coral-edgetpu-stable main\n",
      "Hit:1 http://us-central1.gce.archive.ubuntu.com/ubuntu focal InRelease\n",
      "Hit:2 http://us-central1.gce.archive.ubuntu.com/ubuntu focal-updates InRelease \n",
      "Hit:3 http://us-central1.gce.archive.ubuntu.com/ubuntu focal-backports InRelease\n",
      "Hit:4 http://developer.download.nvidia.com/compute/cuda/repos/ubuntu1804/x86_64  InRelease\n",
      "Get:5 https://nvidia.github.io/libnvidia-container/stable/ubuntu18.04/amd64  InRelease [1484 B]\n",
      "Hit:6 https://download.docker.com/linux/ubuntu focal InRelease                 \n",
      "Get:7 https://nvidia.github.io/nvidia-container-runtime/stable/ubuntu18.04/amd64  InRelease [1481 B]\n",
      "Get:8 https://nvidia.github.io/nvidia-docker/ubuntu18.04/amd64  InRelease [1474 B]\n",
      "Ign:9 http://developer.download.nvidia.com/compute/machine-learning/repos/ubuntu1804/x86_64  InRelease\n",
      "Hit:10 http://developer.download.nvidia.com/compute/machine-learning/repos/ubuntu1804/x86_64  Release\n",
      "Hit:11 http://ppa.launchpad.net/deadsnakes/ppa/ubuntu focal InRelease          \n",
      "Hit:13 http://security.ubuntu.com/ubuntu focal-security InRelease              \n",
      "Get:14 https://packages.cloud.google.com/apt coral-edgetpu-stable InRelease [6722 B]\n",
      "Hit:15 http://ppa.launchpad.net/longsleep/golang-backports/ubuntu focal InRelease\n",
      "Hit:12 https://apt.llvm.org/focal llvm-toolchain-focal-14 InRelease            \n",
      "Hit:16 http://ppa.launchpad.net/openjdk-r/ppa/ubuntu focal InRelease           \n",
      "Get:18 https://packages.cloud.google.com/apt coral-edgetpu-stable/main amd64 Packages [2317 B]\n",
      "Fetched 13.5 kB in 1s (9844 B/s)   \n",
      "Reading package lists... Done\n",
      "Reading package lists... Done\n",
      "Building dependency tree       \n",
      "Reading state information... Done\n",
      "The following packages were automatically installed and are no longer required:\n",
      "  libatasmart4 libblockdev-fs2 libblockdev-loop2 libblockdev-part-err2\n",
      "  libblockdev-part2 libblockdev-swap2 libblockdev-utils2 libblockdev2 libnuma1\n",
      "  libparted-fs-resize0\n",
      "Use 'sudo apt autoremove' to remove them.\n",
      "The following NEW packages will be installed:\n",
      "  edgetpu-compiler\n",
      "0 upgraded, 1 newly installed, 0 to remove and 136 not upgraded.\n",
      "Need to get 7913 kB of archives.\n",
      "After this operation, 31.2 MB of additional disk space will be used.\n",
      "Get:1 https://packages.cloud.google.com/apt coral-edgetpu-stable/main amd64 edgetpu-compiler amd64 16.0 [7913 kB]\n",
      "Fetched 7913 kB in 2s (5088 kB/s)           \n",
      "Selecting previously unselected package edgetpu-compiler.\n",
      "(Reading database ... 139824 files and directories currently installed.)\n",
      "Preparing to unpack .../edgetpu-compiler_16.0_amd64.deb ...\n",
      "Unpacking edgetpu-compiler (16.0) ...\n",
      "Setting up edgetpu-compiler (16.0) ...\n",
      "Processing triggers for libc-bin (2.31-0ubuntu9.7) ...\n"
     ]
    }
   ],
   "source": [
    "! curl https://packages.cloud.google.com/apt/doc/apt-key.gpg | sudo apt-key add -\n",
    "\n",
    "! echo \"deb https://packages.cloud.google.com/apt coral-edgetpu-stable main\" | sudo tee /etc/apt/sources.list.d/coral-edgetpu.list\n",
    "\n",
    "! sudo apt-get update\n",
    "\n",
    "! sudo apt-get install edgetpu-compiler"
   ]
  },
  {
   "cell_type": "markdown",
   "metadata": {
    "id": "qRWewhqFqeL_"
   },
   "source": [
    "**Step 2. Select number of Edge TPUs, Compile**\n",
    "\n",
    "The EdgeTPU has 8MB of SRAM for caching model paramaters ([more info](https://coral.ai/docs/edgetpu/compiler/#parameter-data-caching)). This means that for models that are larger than 8MB, inference time will be increased in order to transfer over model paramaters. One way to avoid this is [Model Pipelining](https://coral.ai/docs/edgetpu/pipeline/) - splitting the model into segments that can have a dedicated EdgeTPU. This can significantly improve latency.\n",
    "\n",
    "The below table can be used as a reference for the number of Edge TPUs to use - the larger models will not compile for a single TPU as the intermediate tensors can't fit in on-chip memory.\n",
    "\n",
    "| Model architecture | Minimum TPUs | Recommended TPUs\n",
    "|--------------------|-------|-------|\n",
    "| EfficientDet-Lite0 | 1     | 1     |\n",
    "| EfficientDet-Lite1 | 1     | 1     |\n",
    "| EfficientDet-Lite2 | 1     | 2     |\n",
    "| EfficientDet-Lite3 | 2     | 2     |\n",
    "| EfficientDet-Lite4 | 2     | 3     |"
   ]
  },
  {
   "cell_type": "code",
   "execution_count": 13,
   "metadata": {
    "cellView": "form",
    "execution": {
     "iopub.execute_input": "2022-05-26T11:36:20.297791Z",
     "iopub.status.busy": "2022-05-26T11:36:20.297258Z",
     "iopub.status.idle": "2022-05-26T11:36:25.211783Z",
     "shell.execute_reply": "2022-05-26T11:36:25.210873Z"
    },
    "id": "LZdonJGCqieU"
   },
   "outputs": [
    {
     "name": "stdout",
     "output_type": "stream",
     "text": [
      "Edge TPU Compiler version 16.0.384591198\n",
      "Started a compilation timeout timer of 180 seconds.\n",
      "\n",
      "Model compiled successfully in 4260 ms.\n",
      "\n",
      "Input model: model.tflite\n",
      "Input size: 4.24MiB\n",
      "Output model: model_edgetpu.tflite\n",
      "Output size: 5.61MiB\n",
      "On-chip memory used for caching model parameters: 4.24MiB\n",
      "On-chip memory remaining for caching model parameters: 3.27MiB\n",
      "Off-chip memory used for streaming uncached model parameters: 0.00B\n",
      "Number of Edge TPU subgraphs: 1\n",
      "Total number of operations: 267\n",
      "Operation log: model_edgetpu.log\n",
      "\n",
      "Model successfully compiled but not all operations are supported by the Edge TPU. A percentage of the model will instead run on the CPU, which is slower. If possible, consider updating your model to use only operations supported by the Edge TPU. For details, visit g.co/coral/model-reqs.\n",
      "Number of operations that will run on Edge TPU: 264\n",
      "Number of operations that will run on CPU: 3\n",
      "See the operation log file for individual operation details.\n",
      "Compilation child process completed within timeout period.\n",
      "Compilation succeeded! \n"
     ]
    }
   ],
   "source": [
    "NUMBER_OF_TPUS =  1#@param {type:\"number\"}\n",
    "\n",
    "!edgetpu_compiler model.tflite --num_segments=$NUMBER_OF_TPUS"
   ]
  },
  {
   "cell_type": "markdown",
   "metadata": {
    "id": "-g6_KQXnqlTC"
   },
   "source": [
    "**Step 3. Download, Run Model**\n",
    "\n",
    "With the model(s) compiled, they can now be run on EdgeTPU(s) for object detection. First, download the compiled TensorFlow Lite model file using the left sidebar of Colab. Right-click on the `model_edgetpu.tflite` file and choose `Download` to download it to your local computer."
   ]
  },
  {
   "cell_type": "markdown",
   "metadata": {
    "id": "VkQFz_qzqrrA"
   },
   "source": [
    "Now you can run the model in your preferred manner. Examples of detection include:\n",
    "* [pycoral detection](https://github.com/google-coral/pycoral/blob/master/examples/detect_image.py)\n",
    "* [Basic TFLite detection](https://github.com/google-coral/tflite/tree/master/python/examples/detection)\n",
    "* [Example Video Detection](https://github.com/google-coral/examples-camera)\n",
    "* [libcoral C++ API](https://github.com/google-coral/libcoral)\n"
   ]
  },
  {
   "cell_type": "markdown",
   "metadata": {
    "id": "EoWiA_zX8rxE"
   },
   "source": [
    "## Advanced Usage\n",
    "\n",
    "This section covers advanced usage topics like adjusting the model and the training hyperparameters."
   ]
  },
  {
   "cell_type": "markdown",
   "metadata": {
    "id": "p79NHCx0xFqb"
   },
   "source": [
    "### Load the dataset\n",
    "\n",
    "#### Load your own data\n",
    "\n",
    "You can upload your own dataset to work through this tutorial. Upload your dataset by using the left sidebar in Colab.\n",
    "\n",
    "<img src=\"https://storage.googleapis.com/download.tensorflow.org/models/tflite/screenshots/model_maker_object_detection.png\" alt=\"Upload File\" width=\"1000\" hspace=\"0\">\n",
    "\n",
    "If you prefer not to upload your dataset to the cloud, you can also locally run the library by following the [guide](https://github.com/tensorflow/examples/tree/master/tensorflow_examples/lite/model_maker).\n",
    "\n",
    "#### Load your data with a different data format\n",
    "\n",
    "The Model Maker library also supports the `object_detector.DataLoader.from_pascal_voc` method to load data with [PASCAL VOC](https://towardsdatascience.com/coco-data-format-for-object-detection-a4c5eaf518c5#:~:text=Pascal%20VOC%20is%20an%20XML,for%20training%2C%20testing%20and%20validation) format. [makesense.ai](https://www.makesense.ai/) and [LabelImg](https://github.com/tzutalin/labelImg) are the tools that can annotate the image and save annotations as XML files in PASCAL VOC data format:\n",
    "```python\n",
    "object_detector.DataLoader.from_pascal_voc(image_dir, annotations_dir, label_map={1: \"person\", 2: \"notperson\"})\n",
    "```\n"
   ]
  },
  {
   "cell_type": "markdown",
   "metadata": {
    "id": "E8VxPiOLy4Gv"
   },
   "source": [
    "### Customize the EfficientDet model hyperparameters\n",
    "\n",
    "The model and training pipline parameters you can adjust are:\n",
    "\n",
    "* `model_dir`: The location to save the model checkpoint files. If not set, a temporary directory will be used.\n",
    "* `steps_per_execution`: Number of steps per training execution.\n",
    "* `moving_average_decay`: Float. The decay to use for maintaining moving averages of the trained parameters.\n",
    "* `var_freeze_expr`: The regular expression to map the prefix name of variables to be frozen which means remaining the same during training. More specific, use `re.match(var_freeze_expr, variable_name)` in the codebase to map the variables to be frozen.\n",
    "* `tflite_max_detections`: integer, 25 by default. The max number of output detections in the TFLite model.\n",
    "* `strategy`:  A string specifying which distribution strategy to use. Accepted values are 'tpu', 'gpus', None. tpu' means to use TPUStrategy. 'gpus' mean to use MirroredStrategy for multi-gpus. If None, use TF default with OneDeviceStrategy.\n",
    "* `tpu`:  The Cloud TPU to use for training. This should be either the name used when creating the Cloud TPU, or a grpc://ip.address.of.tpu:8470 url.\n",
    "* `use_xla`: Use XLA even if strategy is not tpu. If strategy is tpu, always use XLA, and this flag has no effect.\n",
    "* `profile`: Enable profile mode.\n",
    "* `debug`: Enable debug mode.\n",
    "\n",
    "Other parameters that can be adjusted is shown in [hparams_config.py](https://github.com/google/automl/blob/df451765d467c5ed78bbdfd632810bc1014b123e/efficientdet/hparams_config.py#L170).\n",
    "\n",
    "\n",
    "For instance, you can set the `var_freeze_expr='efficientnet'` which freezes the variables with name prefix `efficientnet` (default is `'(efficientnet|fpn_cells|resample_p6)'`). This allows the model to freeze untrainable variables and keep their value the same through training.\n",
    "\n",
    "```python\n",
    "spec = model_spec.get('efficientdet_lite0')\n",
    "spec.config.var_freeze_expr = 'efficientnet'\n",
    "```"
   ]
  },
  {
   "cell_type": "markdown",
   "metadata": {
    "id": "4J2qre1fwXsi"
   },
   "source": [
    "### Change the Model Architecture\n",
    "\n",
    "You can change the model architecture by changing the `model_spec`. For instance, change the `model_spec` to the EfficientDet-Lite4 model.\n",
    "\n",
    "```python\n",
    "spec = model_spec.get('efficientdet_lite4')\n",
    "```"
   ]
  },
  {
   "cell_type": "markdown",
   "metadata": {
    "id": "LvQuy7RSDir3"
   },
   "source": [
    "### Tune the training hyperparameters\n",
    "\n",
    "The `create` function is the driver function that the Model Maker library uses to create models. The `model_spec` parameter defines the model specification. The `object_detector.EfficientDetSpec` class is currently supported. The `create` function comprises of the following steps:\n",
    "\n",
    "1. Creates the model for the object detection according to `model_spec`.\n",
    "2. Trains the model.  The default epochs and the default batch size are set by the `epochs` and `batch_size` variables in the `model_spec` object.\n",
    "You can also tune the training hyperparameters like `epochs` and `batch_size` that affect the model accuracy. For instance,\n",
    "\n",
    "*   `epochs`: Integer, 50 by default. More epochs could achieve better accuracy, but may lead to overfitting.\n",
    "*   `batch_size`: Integer, 64 by default. The number of samples to use in one training step.\n",
    "*   `train_whole_model`: Boolean, False by default. If true, train the whole model. Otherwise, only train the layers that do not match `var_freeze_expr`.\n",
    "\n",
    "For example, you can train with less epochs and only the head layer. You can increase the number of epochs for better results.\n",
    "\n",
    "```python\n",
    "model = object_detector.create(train_data, model_spec=spec, epochs=10, validation_data=validation_data)\n",
    "```"
   ]
  },
  {
   "cell_type": "markdown",
   "metadata": {
    "id": "3vPyZInPxJBT"
   },
   "source": [
    "### Export to different formats"
   ]
  },
  {
   "cell_type": "markdown",
   "metadata": {
    "id": "0xqNIcBM-4YR"
   },
   "source": [
    "The export formats can be one or a list of the following:\n",
    "\n",
    "*   `ExportFormat.TFLITE`\n",
    "*   `ExportFormat.LABEL`\n",
    "*   `ExportFormat.SAVED_MODEL`\n",
    "\n",
    "\n"
   ]
  },
  {
   "cell_type": "markdown",
   "metadata": {
    "id": "enhsZhW3ApcX"
   },
   "source": [
    "By default, it exports only the TensorFlow Lite model file containing the model [metadata](https://www.tensorflow.org/lite/models/convert/metadata) so that you can later use in an on-device ML application. The label file is embedded in metadata.\n",
    "\n",
    "In many on-device ML application, the model size is an important factor. Therefore, it is recommended that you quantize the model to make it smaller and potentially run faster. As for EfficientDet-Lite models, full integer quantization  is used to quantize the model by default. Please refer to [Post-training quantization](https://www.tensorflow.org/lite/performance/post_training_quantization) for more detail.\n",
    "\n",
    "```python\n",
    "model.export(export_dir='.')\n",
    "```"
   ]
  },
  {
   "cell_type": "markdown",
   "metadata": {
    "id": "RLGZs6InAnP5"
   },
   "source": [
    "You can also choose to export other files related to the model for better examination. For instance, exporting both the saved model and the label file as follows:\n",
    "```python\n",
    "model.export(export_dir='.', export_format=[ExportFormat.SAVED_MODEL, ExportFormat.LABEL])\n",
    "```"
   ]
  },
  {
   "cell_type": "markdown",
   "metadata": {
    "id": "W5q_McchQ2C4"
   },
   "source": [
    "### Customize Post-training quantization on the TensorFlow Lite model\n",
    "\n",
    "[Post-training quantization](https://www.tensorflow.org/lite/performance/post_training_quantization) is a conversion technique that can reduce model size and inference latency, while also improving CPU and hardware accelerator inference speed, with a little degradation in model accuracy. Thus, it's widely used to optimize the model.\n",
    "\n",
    "Model Maker library applies a default post-training quantization techique when exporting the model. If you want to customize post-training quantization, Model Maker supports multiple post-training quantization options using [QuantizationConfig](https://www.tensorflow.org/lite/api_docs/python/tflite_model_maker/config/QuantizationConfig) as well. Let's take float16 quantization as an instance. First, define the quantization config.\n",
    "\n",
    "```python\n",
    "config = QuantizationConfig.for_float16()\n",
    "```\n",
    "\n",
    "\n",
    "Then we export the TensorFlow Lite model with such configuration.\n",
    "\n",
    "```python\n",
    "model.export(export_dir='.', tflite_filename='model_fp16.tflite', quantization_config=config)\n",
    "```"
   ]
  },
  {
   "cell_type": "markdown",
   "metadata": {
    "id": "HS4u77W5gnzQ"
   },
   "source": [
    "# Read more\n",
    "\n",
    "You can read our [object detection](https://www.tensorflow.org/lite/examples/object_detection/overview) example to learn technical details. For more information, please refer to:\n",
    "\n",
    "*   TensorFlow Lite Model Maker [guide](https://www.tensorflow.org/lite/models/modify/model_maker) and [API reference](https://www.tensorflow.org/lite/api_docs/python/tflite_model_maker).\n",
    "*   Task Library: [ObjectDetector](https://www.tensorflow.org/lite/inference_with_metadata/task_library/object_detector) for deployment.\n",
    "*   The end-to-end reference apps: [Android](https://github.com/tensorflow/examples/tree/master/lite/examples/object_detection/android), [iOS](https://github.com/tensorflow/examples/tree/master/lite/examples/object_detection/ios), and [Raspberry PI](https://github.com/tensorflow/examples/tree/master/lite/examples/object_detection/raspberry_pi).\n",
    "\n"
   ]
  }
 ],
 "metadata": {
  "accelerator": "GPU",
  "colab": {
   "collapsed_sections": [],
   "name": "Model Maker Object Detection Tutorial",
   "provenance": [
    {
     "file_id": "1dbRXQCjtm-jBFC32DJ6YCVXnXBOG3M5t",
     "timestamp": 1613441434239
    },
    {
     "file_id": "https://github.com/tensorflow/tensorflow/blob/master/tensorflow/lite/g3doc/models/modify/model_maker/text_classification.ipynb",
     "timestamp": 1612303859066
    }
   ],
   "toc_visible": true
  },
  "kernelspec": {
   "display_name": "Python 3",
   "language": "python",
   "name": "python3"
  },
  "language_info": {
   "codemirror_mode": {
    "name": "ipython",
    "version": 3
   },
   "file_extension": ".py",
   "mimetype": "text/x-python",
   "name": "python",
   "nbconvert_exporter": "python",
   "pygments_lexer": "ipython3",
   "version": "3.8.10"
  }
 },
 "nbformat": 4,
 "nbformat_minor": 1
}
