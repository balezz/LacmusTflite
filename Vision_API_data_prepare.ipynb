{
 "cells": [
  {
   "cell_type": "code",
   "execution_count": 67,
   "metadata": {},
   "outputs": [],
   "source": [
    "import os\n",
    "import numpy as np\n",
    "import pandas as pd\n",
    "from utils import *\n",
    "from tensorflow.keras.utils import save_img"
   ]
  },
  {
   "cell_type": "code",
   "execution_count": 5,
   "metadata": {},
   "outputs": [
    {
     "data": {
      "text/plain": [
       "['__pycache__',\n",
       " 'ImageSets',\n",
       " 'Annotations',\n",
       " 'JPEGImages',\n",
       " 'crops1024',\n",
       " '.ipynb_checkpoints']"
      ]
     },
     "execution_count": 5,
     "metadata": {},
     "output_type": "execute_result"
    }
   ],
   "source": [
    "B = 0\n",
    "DATA_DIR = 'LizaAlertDroneDatasetV4_Winter'\n",
    "INPUT_CROP_SIZE, FEATURE_MAP_SIZE = EFFICIENT_NET_SIZES[B]\n",
    "BIG_CROP_SIZE = int(INPUT_CROP_SIZE * 1.2)\n",
    "os.listdir(DATA_DIR)"
   ]
  },
  {
   "cell_type": "code",
   "execution_count": 88,
   "metadata": {},
   "outputs": [],
   "source": [
    "def annotations2string(i, annotations, SET, INPUT_CROP_SIZE):\n",
    "    \"\"\"Google vision API converter\"\"\"\n",
    "    out = []\n",
    "    for ann in annotations:\n",
    "        label = ann.label\n",
    "        x_min = ann.bbox.xmin / INPUT_CROP_SIZE\n",
    "        x_max = ann.bbox.xmax / INPUT_CROP_SIZE\n",
    "        y_min = ann.bbox.ymin / INPUT_CROP_SIZE\n",
    "        y_max = ann.bbox.ymax / INPUT_CROP_SIZE\n",
    "        out.append(f'{SET},{DATA_DIR}/{SET}crops/{i}.jpg,{label},{x_min:.3f},{y_min:.3f},,,{x_max:.3f},{y_max:.3f},,\\n')\n",
    "    return out"
   ]
  },
  {
   "cell_type": "code",
   "execution_count": 85,
   "metadata": {},
   "outputs": [],
   "source": [
    "with open(DATA_DIR+'/ImageSets/Main/train.txt') as f:\n",
    "    train_i = f.read().split('\\n')[:-1]\n",
    "\n",
    "with open(DATA_DIR+'/ImageSets/Main/test.txt') as f:\n",
    "    test_i = f.read().split('\\n')[:-1]\n",
    "\n",
    "test_idxs = [int(t) for t in test_i]\n",
    "train_idxs = [int(t) for t in train_i]"
   ]
  },
  {
   "cell_type": "code",
   "execution_count": 89,
   "metadata": {},
   "outputs": [],
   "source": [
    "def test_gen():\n",
    "    for i in test_idxs:\n",
    "        out = crop_sample(i, INPUT_CROP_SIZE, FEATURE_MAP_SIZE, DATA_DIR)\n",
    "        for o in out:\n",
    "            _, x, _, anns = o\n",
    "            yield x, anns\n",
    "\n",
    "def train_gen():\n",
    "    for i in train_idxs:\n",
    "        out = crop_sample(i, INPUT_CROP_SIZE, FEATURE_MAP_SIZE, DATA_DIR)\n",
    "        for o in out:\n",
    "            _, x, _, anns = o\n",
    "            yield x, anns\n",
    "\n",
    "test_it = iter(test_gen())\n",
    "train_it = iter(train_gen())"
   ]
  },
  {
   "cell_type": "code",
   "execution_count": 90,
   "metadata": {},
   "outputs": [],
   "source": [
    "out = []\n",
    "\n",
    "SET = 'TEST'\n",
    "! mkdir {DATA_DIR}/{SET}crops\n",
    "for i, (x, annotations) in enumerate(test_it):\n",
    "    save_img(f'{DATA_DIR}/{SET}crops/{i}.jpg', x)\n",
    "    for s in annotations2string(i, annotations, SET, INPUT_CROP_SIZE):\n",
    "        out.append(s)\n",
    "\n",
    "SET = 'TRAIN'\n",
    "! mkdir {DATA_DIR}/{SET}crops\n",
    "for i, (x, annotations) in enumerate(train_it):\n",
    "    save_img(f'{DATA_DIR}/{SET}crops/{i}.jpg', x)\n",
    "    for s in annotations2string(i, annotations, SET, INPUT_CROP_SIZE):\n",
    "        out.append(s)\n",
    "\n",
    "with open(f'{DATA_DIR}/vision.csv', 'w') as f:\n",
    "    f.writelines(out)"
   ]
  },
  {
   "cell_type": "code",
   "execution_count": null,
   "metadata": {},
   "outputs": [],
   "source": []
  },
  {
   "cell_type": "code",
   "execution_count": null,
   "metadata": {},
   "outputs": [],
   "source": []
  },
  {
   "cell_type": "code",
   "execution_count": null,
   "metadata": {},
   "outputs": [],
   "source": []
  },
  {
   "cell_type": "code",
   "execution_count": null,
   "metadata": {},
   "outputs": [],
   "source": []
  }
 ],
 "metadata": {
  "kernelspec": {
   "display_name": "Python 3",
   "language": "python",
   "name": "python3"
  },
  "language_info": {
   "codemirror_mode": {
    "name": "ipython",
    "version": 3
   },
   "file_extension": ".py",
   "mimetype": "text/x-python",
   "name": "python",
   "nbconvert_exporter": "python",
   "pygments_lexer": "ipython3",
   "version": "3.8.10"
  }
 },
 "nbformat": 4,
 "nbformat_minor": 2
}
